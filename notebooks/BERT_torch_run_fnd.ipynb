{
 "cells": [
  {
   "cell_type": "markdown",
   "metadata": {},
   "source": [
    "# Embedding BERT"
   ]
  },
  {
   "cell_type": "code",
   "execution_count": null,
   "metadata": {},
   "outputs": [],
   "source": [
    "CUDA_DEVICE = 0"
   ]
  },
  {
   "cell_type": "code",
   "execution_count": null,
   "metadata": {},
   "outputs": [],
   "source": [
    "import torch\n",
    "from torch import cuda\n",
    "from torch.utils.data import Dataset, DataLoader\n",
    "torch.__version__"
   ]
  },
  {
   "cell_type": "code",
   "execution_count": null,
   "metadata": {},
   "outputs": [],
   "source": [
    "import gc\n",
    "torch.cuda.empty_cache()\n",
    "gc.collect()"
   ]
  },
  {
   "cell_type": "code",
   "execution_count": null,
   "metadata": {},
   "outputs": [],
   "source": [
    "device = f\"cuda:{CUDA_DEVICE}\" if cuda.is_available() else 'cpu'\n",
    "print(device)\n",
    "print(torch.cuda.get_device_name(CUDA_DEVICE))"
   ]
  },
  {
   "cell_type": "code",
   "execution_count": null,
   "metadata": {},
   "outputs": [],
   "source": [
    "import numpy as np\n",
    "import pandas as pd\n",
    "import random\n",
    "\n",
    "from datetime import datetime\n",
    "from sklearn.model_selection import train_test_split\n",
    "from sklearn import metrics"
   ]
  },
  {
   "cell_type": "code",
   "execution_count": null,
   "metadata": {},
   "outputs": [],
   "source": [
    "# \"Constants\"\n",
    "RUN_PREFIX = datetime.now().strftime(\"%Y_%m_%d_%H_%M_%S\")\n",
    "RUN_PREFIX\n",
    "TAG = 'RN'"
   ]
  },
  {
   "cell_type": "code",
   "execution_count": null,
   "metadata": {
    "editable": true,
    "slideshow": {
     "slide_type": ""
    },
    "tags": [
     "parameters"
    ]
   },
   "outputs": [],
   "source": [
    "# PAPERMILL PARAMETERS\n",
    "PAPERMILL = False\n",
    "EXPERIMENT_NAME = \"EXP-TBD\"\n",
    "RUN_SETTING = \"-1\"\n",
    "\n",
    "# Model-specific parameters\n",
    "OG_SEED=42\n",
    "OG_SEED_1=15\n",
    "EMBEDDING_SNAPSHOT = \"BASE0_RN_RAW_BERT_embedding\"\n",
    "DROPOUT = 0.2\n",
    "TRAIN_BATCH_SIZE = 8\n",
    "VALID_BATCH_SIZE = 8\n",
    "EPOCHS = 1000\n",
    "LEARNING_RATE = 0.0001 # 1e-04  # 0.00001 # 0.001\n",
    "GRU_NUM_LAYERS = 2  # 1: single GRU, 2+: stacked GRU\n",
    "BIDIRECTIONAL = True\n",
    "INTERNAL_DROPOUT = 0.2\n",
    "UNITS = 1024"
   ]
  },
  {
   "cell_type": "code",
   "execution_count": null,
   "metadata": {},
   "outputs": [],
   "source": [
    "settings = {\n",
    "    \"OG_SEED\": OG_SEED,\n",
    "    \"DROPOUT\": DROPOUT,\n",
    "    \"TRAIN_BATCH_SIZE\": TRAIN_BATCH_SIZE,\n",
    "    \"VALID_BATCH_SIZE\": VALID_BATCH_SIZE,    \n",
    "    \"EPOCHS\": EPOCHS,\n",
    "    \"LEARNING_RATE\": LEARNING_RATE,\n",
    "    \"BIDIRECTIONAL\": BIDIRECTIONAL,\n",
    "    \"INTERNAL_DROPOUT\": INTERNAL_DROPOUT,\n",
    "    \"UNITS\": UNITS,\n",
    "}"
   ]
  },
  {
   "cell_type": "code",
   "execution_count": null,
   "metadata": {},
   "outputs": [],
   "source": [
    "if PAPERMILL:\n",
    "    print(\"Importing plain tqdm\")\n",
    "    from tqdm import tqdm    \n",
    "else:\n",
    "    print(\"Importing auto tqdm\")\n",
    "    from tqdm.auto import tqdm    "
   ]
  },
  {
   "cell_type": "code",
   "execution_count": null,
   "metadata": {},
   "outputs": [],
   "source": [
    "np.random.seed(OG_SEED_1)\n",
    "seed1 = np.random.randint(0, 42069, size=1)[0]\n",
    "seed1"
   ]
  },
  {
   "cell_type": "code",
   "execution_count": null,
   "metadata": {},
   "outputs": [],
   "source": [
    "print(f\"Seed: {seed1}\")\n",
    "np.random.seed(seed1)\n",
    "torch.manual_seed(seed1)\n",
    "random.seed(seed1)"
   ]
  },
  {
   "cell_type": "code",
   "execution_count": null,
   "metadata": {},
   "outputs": [],
   "source": [
    "X = None\n",
    "y = None\n",
    "\n",
    "print(f\"Loading Xy from snapshot {EMBEDDING_SNAPSHOT}\")\n",
    "\n",
    "X = np.load(f\"embeddings/X_{EMBEDDING_SNAPSHOT}.npy\")\n",
    "y = np.load(f\"embeddings/y_{EMBEDDING_SNAPSHOT}.npy\")\n",
    "\n",
    "assert X is not None\n",
    "assert y is not None\n",
    "assert len(X) == len(y)\n",
    "\n",
    "print(f\"Loaded Xy from snapshot: {EMBEDDING_SNAPSHOT}\")\n",
    "print(X.shape)\n",
    "print(y.shape)"
   ]
  },
  {
   "cell_type": "code",
   "execution_count": null,
   "metadata": {},
   "outputs": [],
   "source": [
    "#separación en datos de entrenamiento y prueba\n",
    "X_train_val, X_test, y_train_val, y_test = train_test_split(X, y, test_size=0.15)\n",
    "X_train, X_val, y_train, y_val = train_test_split(X_train_val, y_train_val, test_size=0.15)"
   ]
  },
  {
   "cell_type": "code",
   "execution_count": null,
   "metadata": {},
   "outputs": [],
   "source": [
    "class CustomDataset(Dataset):\n",
    "\n",
    "    def __init__(self, examples, labels):\n",
    "        assert len(examples) == len(labels)\n",
    "        self.examples = examples\n",
    "        self.labels = labels\n",
    "\n",
    "    def __len__(self):\n",
    "        return len(self.examples)\n",
    "\n",
    "    def __getitem__(self, index):\n",
    "\n",
    "        example = self.examples[index]\n",
    "\n",
    "        # From one-hot encoded to categorical label\n",
    "        label = np.argmax(self.labels[index])\n",
    "        \n",
    "        return {\n",
    "            'example': torch.tensor(example),            \n",
    "            'label': torch.tensor(label, dtype=torch.long)\n",
    "        }"
   ]
  },
  {
   "cell_type": "code",
   "execution_count": null,
   "metadata": {},
   "outputs": [],
   "source": [
    "_, tree_max_num_seq, emb_size = X.shape\n",
    "_, num_categories = y.shape"
   ]
  },
  {
   "cell_type": "code",
   "execution_count": null,
   "metadata": {},
   "outputs": [],
   "source": [
    "print(\"tree_max_num_seq: \", tree_max_num_seq)\n",
    "print(\"emb size: \", emb_size)\n",
    "print(\"num_categories: \", num_categories)"
   ]
  },
  {
   "cell_type": "code",
   "execution_count": null,
   "metadata": {},
   "outputs": [],
   "source": [
    "print(\"Train+val shapes\")\n",
    "print(f\"X train+val: {X_train_val.shape}\")\n",
    "print(f\"y train+val: {y_train_val.shape}\")"
   ]
  },
  {
   "cell_type": "code",
   "execution_count": null,
   "metadata": {},
   "outputs": [],
   "source": [
    "print(\"Train shapes\")\n",
    "print(f\"X train: {X_train.shape}\")\n",
    "print(f\"y train: {y_train.shape}\")"
   ]
  },
  {
   "cell_type": "code",
   "execution_count": null,
   "metadata": {},
   "outputs": [],
   "source": [
    "print(\"Val shapes\")\n",
    "print(f\"X val: {X_val.shape}\")\n",
    "print(f\"y val: {y_val.shape}\")"
   ]
  },
  {
   "cell_type": "code",
   "execution_count": null,
   "metadata": {},
   "outputs": [],
   "source": [
    "print(\"Test shapes\")\n",
    "print(f\"X test: {X_test.shape}\")\n",
    "print(f\"y test: {y_test.shape}\")"
   ]
  },
  {
   "cell_type": "code",
   "execution_count": null,
   "metadata": {},
   "outputs": [],
   "source": [
    "train_params = {\n",
    "    'batch_size': settings[\"TRAIN_BATCH_SIZE\"],\n",
    "    'shuffle': True,\n",
    "    'num_workers': 0\n",
    "}\n",
    "\n",
    "validate_params = {\n",
    "    'batch_size': settings[\"VALID_BATCH_SIZE\"],\n",
    "    'shuffle': True,\n",
    "    'num_workers': 0\n",
    "}\n",
    "\n",
    "test_params = {\n",
    "    'batch_size': settings[\"VALID_BATCH_SIZE\"],\n",
    "    'shuffle': True,\n",
    "    'num_workers': 0\n",
    "}"
   ]
  },
  {
   "cell_type": "markdown",
   "metadata": {},
   "source": [
    "## BI-GRU torch"
   ]
  },
  {
   "cell_type": "code",
   "execution_count": null,
   "metadata": {},
   "outputs": [],
   "source": [
    "class FND_BI_GRU(torch.nn.Module):\n",
    "    \"\"\"Bidirectional GRU for fake news classification.\n",
    "\n",
    "    Pytorch reimplementation of model in Providel&Mendoza (2020).\"\"\"\n",
    "\n",
    "    def __init__(\n",
    "        self, _tree_max_num_seq, _emb_size, _num_categories, _units=200, _dropout=0.1\n",
    "    ):\n",
    "        super(FND_BI_GRU, self).__init__()\n",
    "\n",
    "        self.input_size = _emb_size\n",
    "        self.hidden_size = _units\n",
    "        self.num_layers = GRU_NUM_LAYERS\n",
    "        self.output_size = _num_categories\n",
    "        self.bidirectional = BIDIRECTIONAL\n",
    "        self.bidirectional_factor = 2 if self.bidirectional else 1\n",
    "\n",
    "        self.gru = torch.nn.GRU(\n",
    "            input_size=self.input_size,\n",
    "            hidden_size=self.hidden_size,\n",
    "            num_layers=self.num_layers,\n",
    "            batch_first=True,\n",
    "            bidirectional=self.bidirectional,\n",
    "            dropout=INTERNAL_DROPOUT,\n",
    "        )\n",
    "        self.dropout = torch.nn.Dropout(_dropout)\n",
    "        self.fc = torch.nn.Linear(\n",
    "            self.hidden_size * self.bidirectional_factor, 1 #self.output_size\n",
    "        )\n",
    "\n",
    "    def forward(self, x):\n",
    "        h0 = torch.zeros(\n",
    "            self.num_layers * self.bidirectional_factor, x.size(0), self.hidden_size\n",
    "        ).to(x.device)\n",
    "        out, _ = self.gru(x, h0)\n",
    "\n",
    "        out = self.dropout(\n",
    "            out[:, -1, :]\n",
    "        )  # Take the last output sequence and apply dropout\n",
    "        out = self.fc(out)\n",
    "\n",
    "        ## Decode hidden state of the last time step\n",
    "        # out = self.fc(out[:, -1, :])\n",
    "        # out = self.softmax(out)\n",
    "\n",
    "        return out"
   ]
  },
  {
   "cell_type": "markdown",
   "metadata": {},
   "source": [
    "## Loss function"
   ]
  },
  {
   "cell_type": "code",
   "execution_count": null,
   "metadata": {},
   "outputs": [],
   "source": [
    "loss_fn = torch.nn.BCEWithLogitsLoss()"
   ]
  },
  {
   "cell_type": "markdown",
   "metadata": {},
   "source": [
    "## Train & Validation"
   ]
  },
  {
   "cell_type": "code",
   "execution_count": null,
   "metadata": {},
   "outputs": [],
   "source": [
    "def train(epoch, model, training_loader, optimizer=None, scheduler=None):\n",
    "    model.train()\n",
    "    loss_acum = 0\n",
    "    N = 0\n",
    "\n",
    "    for iters, data in tqdm(enumerate(training_loader, 0), total=len(training_loader)):\n",
    "        ## Reiniciamos los gradientes para que no se acumulen\n",
    "        if optimizer:\n",
    "            optimizer.zero_grad(set_to_none=True)\n",
    "\n",
    "        # Model evaluation and loss computation/propagation\n",
    "        x = data[\"example\"].to(device)\n",
    "        targets = data[\"label\"].to(device)\n",
    "        logits = model(x)\n",
    "        logits = logits.squeeze(1)\n",
    "        \n",
    "        loss = loss_fn(logits, targets.float())\n",
    "        loss.backward()\n",
    "\n",
    "        # Here we could add support for weighted loss.\n",
    "        loss_acum += loss.item()\n",
    "        N = N + 1\n",
    "\n",
    "        if optimizer:\n",
    "            optimizer.step()\n",
    "\n",
    "        if scheduler:\n",
    "            scheduler.step()\n",
    "\n",
    "    return loss_acum / N"
   ]
  },
  {
   "cell_type": "code",
   "execution_count": null,
   "metadata": {},
   "outputs": [],
   "source": [
    "def validate(model, testing_loader):\n",
    "    model.eval()\n",
    "    loss_acum = 0\n",
    "    fin_targets = []\n",
    "    fin_outputs = []\n",
    "    N = 0\n",
    "    with torch.no_grad():\n",
    "        for iters, data in tqdm(\n",
    "            enumerate(testing_loader, 0), total=len(testing_loader)\n",
    "        ):\n",
    "            x = data[\"example\"].to(device)\n",
    "            targets = data[\"label\"].to(device)\n",
    "\n",
    "            logits = model(x)\n",
    "            logits = logits.squeeze(1)\n",
    "            \n",
    "            loss = loss_fn(logits, targets.float())\n",
    "\n",
    "            # Here we could add support for weighted loss.\n",
    "            loss_acum += loss.item()\n",
    "            N = N + 1\n",
    "\n",
    "            # The model output already comes from a softmax layer\n",
    "            fin_outputs.extend(torch.sigmoid(logits).cpu().detach().numpy())\n",
    "            fin_targets.extend(targets.cpu().detach().numpy().tolist())\n",
    "\n",
    "    return loss_acum / N, np.array(fin_outputs), np.array(fin_targets)"
   ]
  },
  {
   "cell_type": "markdown",
   "metadata": {},
   "source": [
    "## Entrenamiento"
   ]
  },
  {
   "cell_type": "code",
   "execution_count": null,
   "metadata": {},
   "outputs": [],
   "source": [
    "np.random.seed(settings[\"OG_SEED\"])\n",
    "seed = np.random.randint(0, 42069, size=1)[0]\n",
    "seed"
   ]
  },
  {
   "cell_type": "markdown",
   "metadata": {},
   "source": [
    "## Make dataframe to tabulate results"
   ]
  },
  {
   "cell_type": "code",
   "execution_count": null,
   "metadata": {},
   "outputs": [],
   "source": [
    "column_names = list(settings.keys())\n",
    "column_names = column_names + [\"seed\"]\n",
    "column_names = column_names + [\"epoch\"]\n",
    "column_names = column_names + [\"train_loss\"]\n",
    "column_names = column_names + [\"val_loss\", \"val_accuracy\", \"val_f1_score_micro\", \"val_f1_score_macro\"]\n",
    "column_names = column_names + [\"test_loss\", \"test_accuracy\", \"test_f1_score_micro\", \"test_f1_score_macro\", \"test_f1_score_label0\", \"test_f1_score_label1\"]\n",
    "column_names"
   ]
  },
  {
   "cell_type": "code",
   "execution_count": null,
   "metadata": {},
   "outputs": [],
   "source": [
    "run_results = pd.DataFrame(columns=column_names)\n",
    "run_results"
   ]
  },
  {
   "cell_type": "code",
   "execution_count": null,
   "metadata": {},
   "outputs": [],
   "source": [
    "from copy import deepcopy"
   ]
  },
  {
   "cell_type": "code",
   "execution_count": null,
   "metadata": {},
   "outputs": [],
   "source": [
    "best_valid_loss = float(\"inf\")\n",
    "best_valid_accuracy = 0\n",
    "best_valid_f1_macro = 0\n",
    "best_val_loss_epoch = None\n",
    "best_model_state = None\n",
    "\n",
    "_epochs = settings[\"EPOCHS\"]\n",
    "_learning_rate = settings[\"LEARNING_RATE\"]\n",
    "_units = settings[\"UNITS\"]\n",
    "_dropout = settings[\"DROPOUT\"]\n",
    "\n",
    "\n",
    "print(f\"Seed: {seed}\")\n",
    "np.random.seed(seed)\n",
    "torch.manual_seed(seed)\n",
    "random.seed(seed)\n",
    "\n",
    "training_set = CustomDataset(X_train, y_train)\n",
    "training_loader = DataLoader(training_set, **train_params)\n",
    "\n",
    "validation_set = CustomDataset(X_val, y_val)\n",
    "validation_loader = DataLoader(validation_set, **validate_params)\n",
    "\n",
    "test_set = CustomDataset(X_test, y_test)\n",
    "testing_loader = DataLoader(test_set, **test_params)\n",
    "\n",
    "# Load pretrained model\n",
    "print(\"Model\")\n",
    "model = FND_BI_GRU(\n",
    "    tree_max_num_seq, emb_size, num_categories, _units=_units, _dropout=_dropout\n",
    ")\n",
    "print(model)\n",
    "\n",
    "model.to(device)\n",
    "print(\"Cargado correctamente para GPU\")\n",
    "\n",
    "# optimizer = None\n",
    "# optimizer = torch.optim.AdamW(\n",
    "#     params=model.parameters(),\n",
    "#     lr=_learning_rate,\n",
    "#     weight_decay=0.001\n",
    "# )\n",
    "optimizer = torch.optim.Adagrad(\n",
    "    params=model.parameters(),\n",
    "    lr=_learning_rate,\n",
    "    weight_decay=0.01\n",
    ")\n",
    "\n",
    "scheduler = None\n",
    "\n",
    "for epoch in range(_epochs):\n",
    "    print(f\"===== EPOCH {epoch} / SEED {seed}\")\n",
    "\n",
    "    # ######################################################################################\n",
    "    # Train\n",
    "    train_loss = train(epoch, model, training_loader, optimizer, scheduler)\n",
    "\n",
    "    # ######################################################################################\n",
    "    # Validation\n",
    "    val_loss, val_outputs, val_targets = validate(model, validation_loader)\n",
    "    val_outputs_bin = (val_outputs >= 0.5) #np.argmax(val_outputs, axis=1)\n",
    "\n",
    "    # print(\"Predictions: \", val_outputs_bin)\n",
    "    # print(\"Targets: \", val_targets)\n",
    "\n",
    "    val_accuracy = metrics.accuracy_score(val_targets, val_outputs_bin)\n",
    "    val_f1_score_micro = metrics.f1_score(\n",
    "        val_targets, val_outputs_bin, average=\"micro\"\n",
    "    )\n",
    "    val_f1_score_macro = metrics.f1_score(\n",
    "        val_targets, val_outputs_bin, average=\"macro\"\n",
    "    )\n",
    "\n",
    "    if best_valid_loss > val_loss:\n",
    "        best_valid_loss = val_loss\n",
    "        best_val_loss_epoch = epoch\n",
    "        print(f\"Best val loss: {best_valid_loss} at epoch {epoch} -- saving best model state\")\n",
    "        best_model_state = deepcopy(model.state_dict())        \n",
    "\n",
    "    print(f\"Accuracy Score = {val_accuracy}\")\n",
    "    print(f\"F1 Score (Micro) = {val_f1_score_micro}\")\n",
    "    print(f\"F1 Score (Macro) = {val_f1_score_macro}\")\n",
    "    print(f\"Train loss: {train_loss}\\t Validation loss:{val_loss}\")\n",
    "\n",
    "    # ######################################################################################\n",
    "    # Test\n",
    "    test_loss, test_outputs, test_targets = validate(model, testing_loader)\n",
    "    test_outputs_bin = (test_outputs >= 0.5) # np.argmax(test_outputs, axis=1)\n",
    "    test_accuracy = metrics.accuracy_score(test_targets, test_outputs_bin)\n",
    "    test_f1_score_micro = metrics.f1_score(test_targets, test_outputs_bin, average='micro')\n",
    "    test_f1_score_macro = metrics.f1_score(test_targets, test_outputs_bin, average='macro')\n",
    "    \n",
    "    test_f1_score_macro_binary0 = metrics.f1_score(test_targets, test_outputs_bin, average='binary', pos_label=0)\n",
    "    test_f1_score_macro_binary1 = metrics.f1_score(test_targets, test_outputs_bin, average='binary', pos_label=1)\n",
    "    \n",
    "\n",
    "    print(f\"TEST Accuracy Score = {test_accuracy}\")\n",
    "    print(f\"TEST F1 Score (Micro) = {test_f1_score_micro}\")\n",
    "    print(f\"TEST F1 Score (Macro) = {test_f1_score_macro}\")\n",
    "    print(f\"TEST loss: {test_loss}\")\n",
    "\n",
    "    results_row = {\n",
    "        **settings,\n",
    "        'seed': seed,\n",
    "        'epoch': epoch,\n",
    "        'train_loss': train_loss,\n",
    "        'val_loss': val_loss,\n",
    "        'val_accuracy': val_accuracy,\n",
    "        'val_f1_score_micro': val_f1_score_micro,\n",
    "        'val_f1_score_macro': val_f1_score_macro,\n",
    "        'test_loss': test_loss,\n",
    "        'test_accuracy': test_accuracy,\n",
    "        'test_f1_score_micro': test_f1_score_micro,\n",
    "        'test_f1_score_macro': test_f1_score_macro,\n",
    "        'test_f1_score_label0': test_f1_score_macro_binary0,\n",
    "        'test_f1_score_label1': test_f1_score_macro_binary1,\n",
    "    }\n",
    "\n",
    "    run_results = pd.concat([run_results, pd.DataFrame([results_row])], ignore_index=True)"
   ]
  },
  {
   "cell_type": "markdown",
   "metadata": {},
   "source": [
    "## Save model to huggingface hub as generic artifact"
   ]
  },
  {
   "cell_type": "markdown",
   "metadata": {},
   "source": [
    "if PAPERMILL:\n",
    "    # Store model in huggingface hub\n",
    "    from huggingface_hub import HfApi\n",
    "    new_model_repo_path = f\"GRURNN-{EXPERIMENT_NAME}_EPOCH_{best_val_loss_epoch}_{RUN_SETTING}_{RUN_PREFIX}\"\n",
    "    new_model_repo_path\n",
    "    torch.save(best_model_state, f\"./{new_model_repo_path}.pt\")\n",
    "    hfAPI = HfApi()\n",
    "    repo = hfAPI.create_repo(f\"eprovidel/{new_model_repo_path}\")\n",
    "    hfAPI.upload_file(path_or_fileobj=f\"./{new_model_repo_path}.pt\", path_in_repo=f\"{new_model_repo_path}.pt\", repo_id=repo.repo_id)"
   ]
  },
  {
   "cell_type": "code",
   "execution_count": null,
   "metadata": {},
   "outputs": [],
   "source": [
    "del model\n",
    "del optimizer\n",
    "del scheduler\n",
    "torch.cuda.empty_cache()"
   ]
  },
  {
   "cell_type": "code",
   "execution_count": null,
   "metadata": {},
   "outputs": [],
   "source": [
    "run_results"
   ]
  },
  {
   "cell_type": "code",
   "execution_count": null,
   "metadata": {},
   "outputs": [],
   "source": [
    "%env AWS_ACCESS_KEY_ID=0046bfa75805a4a0000000001\n",
    "%env AWS_SECRET_ACCESS_KEY=K004HXx/xI+XSXFYYQAFY8UY+jsx5Yk\n",
    "%env S3_ENDPOINT=https://s3.us-west-004.backblazeb2.com\n",
    "%env S3_BUCKET=multitask-fnd"
   ]
  },
  {
   "cell_type": "code",
   "execution_count": null,
   "metadata": {},
   "outputs": [],
   "source": [
    "if PAPERMILL:\n",
    "    # Store results in Excel file\n",
    "    EXCEL_OUTPUT = f\"{EXPERIMENT_NAME}_SETTING_{RUN_SETTING}_RUN_{RUN_PREFIX}.xlsx\"\n",
    "    run_results.to_excel(EXCEL_OUTPUT)\n",
    "\n",
    "    print(f\"Uploading {EXCEL_OUTPUT} to S3\")\n",
    "\n",
    "    # Upload results to S3. Depends on environment variables.\n",
    "    # We use $$ to force environment variable and to be able to combine it with local variable {EXCEL_OUTPUT}\n",
    "    !aws s3 cp ./{EXCEL_OUTPUT} s3://$$S3_BUCKET/ --endpoint-url=$$S3_ENDPOINT\n",
    "    !aws s3 cp ./output_{EXPERIMENT_NAME}_{RUN_SETTING}.txt s3://$$S3_BUCKET/ --endpoint-url=$$S3_ENDPOINT"
   ]
  },
  {
   "cell_type": "code",
   "execution_count": null,
   "metadata": {},
   "outputs": [],
   "source": [
    "print(\"End\")"
   ]
  }
 ],
 "metadata": {
  "kernelspec": {
   "display_name": "Python 3 (ipykernel)",
   "language": "python",
   "name": "python3"
  },
  "language_info": {
   "codemirror_mode": {
    "name": "ipython",
    "version": 3
   },
   "file_extension": ".py",
   "mimetype": "text/x-python",
   "name": "python",
   "nbconvert_exporter": "python",
   "pygments_lexer": "ipython3",
   "version": "3.10.13"
  }
 },
 "nbformat": 4,
 "nbformat_minor": 4
}
